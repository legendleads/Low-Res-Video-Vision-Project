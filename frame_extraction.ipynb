{
 "cells": [
  {
   "cell_type": "code",
   "execution_count": 1,
   "metadata": {},
   "outputs": [],
   "source": [
    "import cv2\n",
    "import numpy as np\n",
    "import matplotlib.pyplot as plt"
   ]
  },
  {
   "cell_type": "code",
   "execution_count": 2,
   "metadata": {},
   "outputs": [],
   "source": [
    "def vid_backround(vid):\n",
    "    cap = cv2.VideoCapture(vid)\n",
    "    # we will randomly select 50 frames for the calculating the median\n",
    "    frame_indices = cap.get(cv2.CAP_PROP_FRAME_COUNT) * np.random.uniform(size=50)\n",
    "    # we will store the frames in array\n",
    "    frames = []\n",
    "    for idx in frame_indices:\n",
    "        # set the frame id to read that particular frame\n",
    "        cap.set(cv2.CAP_PROP_POS_FRAMES, idx)\n",
    "        ret, frame = cap.read()\n",
    "        frames.append(frame)\n",
    "    # calculate the median\n",
    "    median_frame = np.median(frames, axis=0).astype(np.uint8)\n",
    "    # plt.imshow(median_frame)\n",
    "    return median_frame\n",
    "# plt.imshow(vid_backround('E:\\\\D drive\\\\CV project\\\\Video_2022_08_18_20_25_15-2022_08_18_20_31_40.avi'))\n",
    "bg = vid_backround('Video_2022_08_18_20_25_15-2022_08_18_20_31_40.avi')"
   ]
  },
  {
   "cell_type": "code",
   "execution_count": 10,
   "metadata": {},
   "outputs": [
    {
     "name": "stdout",
     "output_type": "stream",
     "text": [
      "357 4500\n"
     ]
    }
   ],
   "source": [
    "def vid_back_blur(vid , background):\n",
    "  bg = background\n",
    "  capture1 = cv2.VideoCapture(vid)\n",
    "  counter = 0\n",
    "  tot=0\n",
    "  center = bg.shape\n",
    "  w=200\n",
    "  h=200\n",
    "  x = center[1]/2 - w/2\n",
    "  y = center[0]/2 - h/2\n",
    "  bg= cv2.cvtColor(bg, cv2.COLOR_BGR2GRAY)\n",
    "  bg = bg/255\n",
    "  \n",
    "  bg = bg[int(y):int(y+h), int(x):int(x+w)]\n",
    "  # kernel = np.array([[0, 1, 2],\n",
    "  #                   [-1, 0, 1],\n",
    "  #                   [-2, -1, 0]])\n",
    "  # bg = cv2.filter2D(src=bg, ddepth=-1, kernel=kernel)\n",
    "\n",
    "  # kernel1 = np.array([[0, 1, 2],\n",
    "  #                   [1, 0, 1],\n",
    "  #                   [2, 1, 0]])\n",
    " \n",
    "  # hog.setSVMDetector(cv2.HOGDescriptor_getDefaultPeopleDetector())\n",
    "  try:\n",
    "    while capture1.isOpened():\n",
    "      \n",
    "        ret1, frame1 = capture1.read()\n",
    "        frame1= cv2.cvtColor(frame1, cv2.COLOR_BGR2GRAY)\n",
    "        frame1 = cv2.medianBlur(frame1,3)\n",
    "        frame1=frame1/255\n",
    "        frame1 = frame1[int(y):int(y+h), int(x):int(x+w)]\n",
    "        \n",
    "        temp = bg-frame1\n",
    "        temp=np.where( temp>0.15 ,1,0)\n",
    "        tot+=1\n",
    "        # frame1 = cv2.filter2D(frame1,-1,kernel)\n",
    "        # sum =np.sum(frame1)\n",
    "        \n",
    "        # print(\"BACKGROUND\",np.sum(bg))\n",
    "        if np.count_nonzero(temp)>300 :\n",
    "          # print(np.count_nonzero(temp))\n",
    "          # if counter>30:\n",
    "          #   plt.imshow(frame1,cmap='gray')\n",
    "          #   plt.show()\n",
    "          counter+=1\n",
    "        # if counter==60:\n",
    "        #   break\n",
    "  except:\n",
    "    print(counter,tot)\n",
    "      \n",
    "      \n",
    "      \n",
    "    \n",
    "    \n",
    "\n",
    "    # except:\n",
    "    #     print(\"Except\")\n",
    "    #     break\n",
    "  capture1.release()\n",
    "  # print(max(lst), sum(lst)/len(lst) , min(lst) , np.sum(bg))\n",
    "vid_back_blur('Video_2022_08_18_20_25_15-2022_08_18_20_31_40.avi'  , bg)"
   ]
  },
  {
   "cell_type": "code",
   "execution_count": null,
   "metadata": {},
   "outputs": [],
   "source": []
  }
 ],
 "metadata": {
  "kernelspec": {
   "display_name": "Python 3.10.2 64-bit",
   "language": "python",
   "name": "python3"
  },
  "language_info": {
   "codemirror_mode": {
    "name": "ipython",
    "version": 3
   },
   "file_extension": ".py",
   "mimetype": "text/x-python",
   "name": "python",
   "nbconvert_exporter": "python",
   "pygments_lexer": "ipython3",
   "version": "3.10.2"
  },
  "orig_nbformat": 4,
  "vscode": {
   "interpreter": {
    "hash": "369f2c481f4da34e4445cda3fffd2e751bd1c4d706f27375911949ba6bb62e1c"
   }
  }
 },
 "nbformat": 4,
 "nbformat_minor": 2
}
